{
 "cells": [
  {
   "cell_type": "code",
   "execution_count": 17,
   "metadata": {},
   "outputs": [],
   "source": [
    "import numpy as np\n",
    "import cv2\n",
    "from cv2 import aruco\n",
    "import time"
   ]
  },
  {
   "cell_type": "code",
   "execution_count": 11,
   "metadata": {},
   "outputs": [],
   "source": [
    "def calculate_Robot_State(img,aruco_list):  #gives the state of the bot (centre(x), centre(y), angle)\n",
    "    robot_state = {}\n",
    "    key_list = aruco_list.keys()\n",
    "    font = cv2.FONT_HERSHEY_SIMPLEX\n",
    "\n",
    "    for key in key_list:\n",
    "        dict_entry = aruco_list[key]\n",
    "        pt1 , pt2 = tuple(dict_entry[0]) , tuple(dict_entry[1])\n",
    "        centre = dict_entry[0] + dict_entry[1] + dict_entry[2] + dict_entry[3]\n",
    "        centre[:] = [int(x / 4) for x in centre]\n",
    "        centre = tuple(centre)\n",
    "        #print centre\n",
    "        angle = angle_calculate(pt1, pt2)\n",
    "        cv2.putText(img, str(angle), (int(centre[0] - 80), int(centre[1])), font, 1, (0,0,255), 2, cv2.LINE_AA)\n",
    "        robot_state[key] = (int(centre[0]), int(centre[1]), angle)#HOWEVER IF YOU ARE SCALING IMAGE AND ALL...THEN BETTER INVERT X AND Y...COZ THEN ONLY THE RATIO BECOMES SAME\n",
    "    #print (robot_state)\n",
    "\n",
    "    return robot_state "
   ]
  },
  {
   "cell_type": "code",
   "execution_count": 12,
   "metadata": {},
   "outputs": [],
   "source": [
    "def detect_Aruco(img):  #returns the detected aruco list dictionary with id: corners\n",
    "    aruco_list = {}\n",
    "    gray = cv2.cvtColor(img, cv2.COLOR_BGR2GRAY)\n",
    "    aruco_dict = aruco.Dictionary_get(aruco.DICT_4X4_250)   #creating aruco_dict with 5x5 bits with max 250 ids..so ids ranges from 0-249\n",
    "    parameters = aruco.DetectorParameters_create()  #refer opencv page for clarification\n",
    "    #lists of ids and the corners beloning to each id\n",
    "    corners, ids, _ = aruco.detectMarkers(gray, aruco_dict, parameters = parameters)\n",
    "    #corners is the list of corners(numpy array) of the detected markers. For each marker, its four corners are returned in their original order (which is clockwise starting with top left). So, the first corner is the top left corner, followed by the top right, bottom right and bottom left.\n",
    "    # print corners[0]\n",
    "    #gray = aruco.drawDetectedMarkers(gray, corners,ids)\n",
    "    #cv2.imshow('frame',gray)\n",
    "    #print (type(corners[0]))\n",
    "    if len(corners):    #returns no of arucos\n",
    "        for k in range(len(corners)):\n",
    "            temp_1 = corners[k]\n",
    "            temp_1 = temp_1[0]\n",
    "            temp_2 = ids[k]\n",
    "            temp_2 = temp_2[0]\n",
    "            aruco_list[temp_2] = temp_1\n",
    "        return aruco_list"
   ]
  },
  {
   "cell_type": "code",
   "execution_count": 13,
   "metadata": {},
   "outputs": [],
   "source": [
    "def angle_calculate(pt1,pt2, trigger = 0):  # function which returns angle between two points in the range of 0-359\n",
    "    angle_list_1 = list(range(359,0,-1))\n",
    "    #angle_list_1 = angle_list_1[90:] + angle_list_1[:90]\n",
    "    angle_list_2 = list(range(359,0,-1))\n",
    "    angle_list_2 = angle_list_2[-90:] + angle_list_2[:-90]\n",
    "    x=pt2[0]-pt1[0] # unpacking tuple\n",
    "    y=pt2[1]-pt1[1]\n",
    "    angle=int(math.degrees(math.atan2(y,x))) #takes 2 points nad give angle with respect to horizontal axis in range(-180,180)\n",
    "    if trigger == 0:\n",
    "        angle = angle_list_2[angle]\n",
    "    else:\n",
    "        angle = angle_list_1[angle]\n",
    "    return int(angle)"
   ]
  },
  {
   "cell_type": "code",
   "execution_count": 14,
   "metadata": {},
   "outputs": [],
   "source": [
    "def get_orientation(angle):\n",
    "    if(angle < 180):\n",
    "        return ('North')\n",
    "    if(angle > 180):\n",
    "        return ('South')"
   ]
  },
  {
   "cell_type": "code",
   "execution_count": 18,
   "metadata": {},
   "outputs": [
    {
     "name": "stdout",
     "output_type": "stream",
     "text": [
      "South\n",
      "South\n",
      "South\n",
      "North\n",
      "North\n"
     ]
    }
   ],
   "source": [
    "cap = cv2.VideoCapture(0)\n",
    "\n",
    "#Check whether user selected camera is opened successfully.\n",
    "\n",
    "if not (cap.isOpened()):\n",
    "\n",
    "    print('Could not open video device')\n",
    "\n",
    "\n",
    "    \n",
    "else:\n",
    "\n",
    "    while True:\n",
    "    \n",
    "        ret, image = cap.read()\n",
    "        arucoDict = detect_Aruco(image)\n",
    "        if(arucoDict != None):\n",
    "            angle = calculate_Robot_State(image,arucoDict)[17][2]\n",
    "            print(get_orientation(angle))\n",
    "            time.sleep(5)\n",
    "        cv2.imshow(\"Image\", image)\n",
    "        key = cv2.waitKey(1)\n",
    "        # Press esc or 'q' to close the image window\n",
    "        if key & 0xFF == ord('q') or key == 27:\n",
    "            cv2.destroyAllWindows()\n",
    "            break\n",
    "\n",
    "    cap.release()\n",
    "\n",
    "    cv2.destroyAllWindows()"
   ]
  },
  {
   "cell_type": "code",
   "execution_count": null,
   "metadata": {},
   "outputs": [],
   "source": []
  },
  {
   "cell_type": "code",
   "execution_count": null,
   "metadata": {},
   "outputs": [],
   "source": []
  }
 ],
 "metadata": {
  "kernelspec": {
   "display_name": "Python 3",
   "language": "python",
   "name": "python3"
  },
  "language_info": {
   "codemirror_mode": {
    "name": "ipython",
    "version": 3
   },
   "file_extension": ".py",
   "mimetype": "text/x-python",
   "name": "python",
   "nbconvert_exporter": "python",
   "pygments_lexer": "ipython3",
   "version": "3.7.3"
  }
 },
 "nbformat": 4,
 "nbformat_minor": 4
}
